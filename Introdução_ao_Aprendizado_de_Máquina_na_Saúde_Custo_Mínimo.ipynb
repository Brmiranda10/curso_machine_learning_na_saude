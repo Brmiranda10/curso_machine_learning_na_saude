{
  "nbformat": 4,
  "nbformat_minor": 0,
  "metadata": {
    "colab": {
      "name": "Introdução ao Aprendizado de Máquina na Saúde - Custo Mínimo.ipynb",
      "version": "0.3.2",
      "provenance": [],
      "include_colab_link": true
    },
    "kernelspec": {
      "display_name": "Python 3",
      "language": "python",
      "name": "python3"
    },
    "accelerator": "GPU"
  },
  "cells": [
    {
      "cell_type": "markdown",
      "metadata": {
        "id": "view-in-github",
        "colab_type": "text"
      },
      "source": [
        "[View in Colaboratory](https://colab.research.google.com/github/tiagoandresvaz/curso_machine_learning_na_saude/blob/master/Introdu%C3%A7%C3%A3o_ao_Aprendizado_de_M%C3%A1quina_na_Sa%C3%BAde_Custo_M%C3%ADnimo.ipynb)"
      ]
    },
    {
      "metadata": {
        "id": "1RuDRQFWnNZs",
        "colab_type": "text"
      },
      "cell_type": "markdown",
      "source": [
        "**Introducao ao Aprendizado de Maquina na Saude - Custo Minimo.ipynb**\n",
        "\n",
        "```\n",
        "Descrição: Utiliza dados de 303 pacientes para inferir com o uso do algoritmo Naive Bayes a melhor resposta para a pergunta: Qual é a quantidade de pacientes que deve fazer um novo tipo de exame? Cada erro está associado a um custo financeiro de até oitocentos reais.\n",
        "\n",
        "```\n",
        "\n",
        "\n",
        "\n"
      ]
    },
    {
      "metadata": {
        "id": "A3JqVU7YAQDs",
        "colab_type": "text"
      },
      "cell_type": "markdown",
      "source": [
        "Inicia instalando no ambiente do usuário no Google Colab os pacotes Matplotlib e Orange.\n",
        "https://matplotlib.org/\n"
      ]
    },
    {
      "metadata": {
        "id": "j_sDg7Jp-iux",
        "colab_type": "code",
        "colab": {
          "base_uri": "https://localhost:8080/",
          "height": 1346
        },
        "outputId": "531367ea-209e-47bc-cb66-54cdb5d14a9f"
      },
      "cell_type": "code",
      "source": [
        "!pip install -q matplotlib\n",
        "!pip install Orange3\n"
      ],
      "execution_count": 1,
      "outputs": [
        {
          "output_type": "stream",
          "text": [
            "Collecting Orange3\n",
            "\u001b[?25l  Downloading https://files.pythonhosted.org/packages/26/60/77575ccb4970371fd5a292bc999ba17a4f12af96de96af02a7ba9e028cd1/Orange3-3.15.0.tar.gz (3.9MB)\n",
            "\u001b[K    100% |████████████████████████████████| 3.9MB 956kB/s \n",
            "\u001b[?25hCollecting AnyQt>=0.0.8 (from Orange3)\n",
            "  Downloading https://files.pythonhosted.org/packages/7c/32/f6ae3ad3be05722d344ff8d202d4f0382f7fc75e1ad2fd49cc36ccd2e8a7/AnyQt-0.0.8-py2.py3-none-any.whl\n",
            "Collecting CommonMark>=0.5.5 (from Orange3)\n",
            "\u001b[?25l  Downloading https://files.pythonhosted.org/packages/ab/ca/439c88039583a29564a0043186875258e9a4f041fb5c422cd387b8e10175/commonmark-0.8.1-py2.py3-none-any.whl (47kB)\n",
            "\u001b[K    100% |████████████████████████████████| 51kB 17.6MB/s \n",
            "\u001b[?25hCollecting bottleneck>=1.0.0 (from Orange3)\n",
            "\u001b[?25l  Downloading https://files.pythonhosted.org/packages/05/ae/cedf5323f398ab4e4ff92d6c431a3e1c6a186f9b41ab3e8258dff786a290/Bottleneck-1.2.1.tar.gz (105kB)\n",
            "\u001b[K    100% |████████████████████████████████| 112kB 20.1MB/s \n",
            "\u001b[?25hRequirement already satisfied: chardet>=3.0.2 in /usr/local/lib/python3.6/dist-packages (from Orange3) (3.0.4)\n",
            "Collecting docutils (from Orange3)\n",
            "\u001b[?25l  Downloading https://files.pythonhosted.org/packages/36/fa/08e9e6e0e3cbd1d362c3bbee8d01d0aedb2155c4ac112b19ef3cae8eed8d/docutils-0.14-py3-none-any.whl (543kB)\n",
            "\u001b[K    100% |████████████████████████████████| 552kB 11.9MB/s \n",
            "\u001b[?25hRequirement already satisfied: joblib>=0.9.4 in /usr/local/lib/python3.6/dist-packages (from Orange3) (0.12.4)\n",
            "Collecting keyring (from Orange3)\n",
            "  Downloading https://files.pythonhosted.org/packages/ff/a6/9a679b52304900703aea0f0fed81d95fed509097c694451ff7069d296e77/keyring-15.0.0-py2.py3-none-any.whl\n",
            "Collecting keyrings.alt (from Orange3)\n",
            "  Downloading https://files.pythonhosted.org/packages/f7/db/202fe99c9f6d75c7810cb3af7d791479df0dd942f2bac2425646c0ad3db8/keyrings.alt-3.1-py2.py3-none-any.whl\n",
            "Requirement already satisfied: networkx in /usr/local/lib/python3.6/dist-packages (from Orange3) (2.1)\n",
            "Requirement already satisfied: numpy>=1.9.0 in /usr/local/lib/python3.6/dist-packages (from Orange3) (1.14.5)\n",
            "Requirement already satisfied: pip>=9.0 in /usr/local/lib/python3.6/dist-packages (from Orange3) (18.0)\n",
            "Collecting pyqtgraph>=0.10.0 (from Orange3)\n",
            "\u001b[?25l  Downloading https://files.pythonhosted.org/packages/cd/ad/307e0280df5c19986c4206d138ec3a8954afc722cea991f4adb4a16337d9/pyqtgraph-0.10.0.tar.gz (1.5MB)\n",
            "\u001b[K    100% |████████████████████████████████| 1.6MB 15.5MB/s \n",
            "\u001b[?25hCollecting python-louvain (from Orange3)\n",
            "  Downloading https://files.pythonhosted.org/packages/c2/15/0d0e3ace40e9462ce14e0a848b3bd60c2f58296b3505b0aad75486b04cdf/python-louvain-0.11.tar.gz\n",
            "Requirement already satisfied: scikit-learn>=0.18.1 in /usr/local/lib/python3.6/dist-packages (from Orange3) (0.19.2)\n",
            "Requirement already satisfied: scipy>=0.16.1 in /usr/local/lib/python3.6/dist-packages (from Orange3) (0.19.1)\n",
            "Collecting serverfiles (from Orange3)\n",
            "  Downloading https://files.pythonhosted.org/packages/85/97/f1e939373e40ae034f5535d8e567ec2dc3029d8045b6373a8783b3394cb7/serverfiles-0.2.1.tar.gz\n",
            "Requirement already satisfied: setuptools>=36.3 in /usr/local/lib/python3.6/dist-packages (from Orange3) (39.1.0)\n",
            "Collecting xlrd>=0.9.2 (from Orange3)\n",
            "\u001b[?25l  Downloading https://files.pythonhosted.org/packages/07/e6/e95c4eec6221bfd8528bcc4ea252a850bffcc4be88ebc367e23a1a84b0bb/xlrd-1.1.0-py2.py3-none-any.whl (108kB)\n",
            "\u001b[K    100% |████████████████████████████████| 112kB 24.2MB/s \n",
            "\u001b[?25hRequirement already satisfied: future in /usr/local/lib/python3.6/dist-packages (from CommonMark>=0.5.5->Orange3) (0.16.0)\n",
            "Requirement already satisfied: entrypoints in /usr/local/lib/python3.6/dist-packages (from keyring->Orange3) (0.2.3)\n",
            "Collecting secretstorage; sys_platform == \"linux\" and python_version >= \"3.5\" (from keyring->Orange3)\n",
            "  Downloading https://files.pythonhosted.org/packages/d8/e8/80975fd281764c80b2eb581a7f25d2109786e273b8925e8161bd2d06d10a/SecretStorage-3.1.0-py3-none-any.whl\n",
            "Requirement already satisfied: six in /usr/local/lib/python3.6/dist-packages (from keyrings.alt->Orange3) (1.11.0)\n",
            "Requirement already satisfied: decorator>=4.1.0 in /usr/local/lib/python3.6/dist-packages (from networkx->Orange3) (4.3.0)\n",
            "Requirement already satisfied: requests>=2.11.1 in /usr/local/lib/python3.6/dist-packages (from serverfiles->Orange3) (2.18.4)\n",
            "Collecting cryptography (from secretstorage; sys_platform == \"linux\" and python_version >= \"3.5\"->keyring->Orange3)\n",
            "\u001b[?25l  Downloading https://files.pythonhosted.org/packages/59/32/92cade62c645756a83598edf56289e9b19aae5370642a7ce690cd06bc72f/cryptography-2.3.1-cp34-abi3-manylinux1_x86_64.whl (2.1MB)\n",
            "\u001b[K    100% |████████████████████████████████| 2.1MB 13.1MB/s \n",
            "\u001b[?25hCollecting jeepney (from secretstorage; sys_platform == \"linux\" and python_version >= \"3.5\"->keyring->Orange3)\n",
            "\u001b[?25l  Downloading https://files.pythonhosted.org/packages/a9/21/c07060fac57d8d4932ccb19f96b244ff056f13192993d2d1253fb87d6784/jeepney-0.3.1-py3-none-any.whl (55kB)\n",
            "\u001b[K    100% |████████████████████████████████| 61kB 20.5MB/s \n",
            "\u001b[?25hRequirement already satisfied: certifi>=2017.4.17 in /usr/local/lib/python3.6/dist-packages (from requests>=2.11.1->serverfiles->Orange3) (2018.8.24)\n",
            "Requirement already satisfied: idna<2.7,>=2.5 in /usr/local/lib/python3.6/dist-packages (from requests>=2.11.1->serverfiles->Orange3) (2.6)\n",
            "Requirement already satisfied: urllib3<1.23,>=1.21.1 in /usr/local/lib/python3.6/dist-packages (from requests>=2.11.1->serverfiles->Orange3) (1.22)\n",
            "Collecting cffi!=1.11.3,>=1.7 (from cryptography->secretstorage; sys_platform == \"linux\" and python_version >= \"3.5\"->keyring->Orange3)\n",
            "\u001b[?25l  Downloading https://files.pythonhosted.org/packages/6d/c0/47db8f624f3e4e2f3f27be03a93379d1ba16a1450a7b1aacfa0366e2c0dd/cffi-1.11.5-cp36-cp36m-manylinux1_x86_64.whl (421kB)\n",
            "\u001b[K    100% |████████████████████████████████| 430kB 25.6MB/s \n",
            "\u001b[?25hCollecting asn1crypto>=0.21.0 (from cryptography->secretstorage; sys_platform == \"linux\" and python_version >= \"3.5\"->keyring->Orange3)\n",
            "\u001b[?25l  Downloading https://files.pythonhosted.org/packages/ea/cd/35485615f45f30a510576f1a56d1e0a7ad7bd8ab5ed7cdc600ef7cd06222/asn1crypto-0.24.0-py2.py3-none-any.whl (101kB)\n",
            "\u001b[K    100% |████████████████████████████████| 102kB 26.4MB/s \n",
            "\u001b[?25hCollecting pycparser (from cffi!=1.11.3,>=1.7->cryptography->secretstorage; sys_platform == \"linux\" and python_version >= \"3.5\"->keyring->Orange3)\n",
            "\u001b[?25l  Downloading https://files.pythonhosted.org/packages/8c/2d/aad7f16146f4197a11f8e91fb81df177adcc2073d36a17b1491fd09df6ed/pycparser-2.18.tar.gz (245kB)\n",
            "\u001b[K    100% |████████████████████████████████| 256kB 25.8MB/s \n",
            "\u001b[?25hBuilding wheels for collected packages: Orange3, bottleneck, pyqtgraph, python-louvain, serverfiles, pycparser\n",
            "  Running setup.py bdist_wheel for Orange3 ... \u001b[?25l-\b \b\\\b \b|\b \b/\b \b-\b \b\\\b \b|\b \b/\b \b-\b \b\\\b \b|\b \b/\b \b-\b \b\\\b \b|\b \b/\b \b-\b \b\\\b \b|\b \b/\b \b-\b \b\\\b \b|\b \b/\b \b-\b \b\\\b \b|\b \b/\b \bdone\n",
            "\u001b[?25h  Stored in directory: /root/.cache/pip/wheels/3b/60/63/d3f61bbdaa184a8a344b2e3589a3769e8fde662b39fbfccc15\n",
            "  Running setup.py bdist_wheel for bottleneck ... \u001b[?25l-\b \b\\\b \b|\b \b/\b \b-\b \b\\\b \b|\b \b/\b \bdone\n",
            "\u001b[?25h  Stored in directory: /root/.cache/pip/wheels/f2/bf/ec/e0f39aa27001525ad455139ee57ec7d0776fe074dfd78c97e4\n",
            "  Running setup.py bdist_wheel for pyqtgraph ... \u001b[?25l-\b \b\\\b \b|\b \b/\b \b-\b \b\\\b \bdone\n",
            "\u001b[?25h  Stored in directory: /root/.cache/pip/wheels/93/a2/de/184ecdefdb91d760706d02389015dfa3b96e927eb1c42ace37\n",
            "  Running setup.py bdist_wheel for python-louvain ... \u001b[?25l-\b \bdone\n",
            "\u001b[?25h  Stored in directory: /root/.cache/pip/wheels/c3/b0/db/198c7453d5169907dbdbb090eebc0c6839f75e36b09c6dc7aa\n",
            "  Running setup.py bdist_wheel for serverfiles ... \u001b[?25l-\b \bdone\n",
            "\u001b[?25h  Stored in directory: /root/.cache/pip/wheels/57/61/89/2f39b97497f2412d900e50b4de558dad04e75fb880eb4cfbd5\n",
            "  Running setup.py bdist_wheel for pycparser ... \u001b[?25l-\b \b\\\b \b|\b \bdone\n",
            "\u001b[?25h  Stored in directory: /root/.cache/pip/wheels/c0/a1/27/5ba234bd77ea5a290cbf6d675259ec52293193467a12ef1f46\n",
            "Successfully built Orange3 bottleneck pyqtgraph python-louvain serverfiles pycparser\n",
            "Installing collected packages: AnyQt, CommonMark, bottleneck, docutils, pycparser, cffi, asn1crypto, cryptography, jeepney, secretstorage, keyring, keyrings.alt, pyqtgraph, python-louvain, serverfiles, xlrd, Orange3\n",
            "Successfully installed AnyQt-0.0.8 CommonMark-0.8.1 Orange3-3.15.0 asn1crypto-0.24.0 bottleneck-1.2.1 cffi-1.11.5 cryptography-2.3.1 docutils-0.14 jeepney-0.3.1 keyring-15.0.0 keyrings.alt-3.1 pycparser-2.18 pyqtgraph-0.10.0 python-louvain-0.11 secretstorage-3.1.0 serverfiles-0.2.1 xlrd-1.1.0\n"
          ],
          "name": "stdout"
        }
      ]
    },
    {
      "metadata": {
        "id": "KchLUkGY0iuL",
        "colab_type": "code",
        "colab": {
          "base_uri": "https://localhost:8080/",
          "height": 34
        },
        "outputId": "c261b097-bd8c-4ffe-e50e-3dc6d3486bdd"
      },
      "cell_type": "code",
      "source": [
        "import matplotlib.pyplot as plt\n",
        "import numpy as np\n",
        "import Orange \n",
        "from collections import Counter\n",
        "\n",
        "from Orange.data import Table\n",
        "from Orange.classification import NaiveBayesLearner, TreeLearner\n",
        "from Orange.evaluation import CrossValidation\n",
        "\n",
        "\n",
        "import tensorflow as tf\n",
        "device_name = tf.test.gpu_device_name()\n",
        "if device_name != '/device:GPU:0':\n",
        "  raise SystemError('GPU device not found')\n",
        "print('Found GPU at: {}'.format(device_name))"
      ],
      "execution_count": 2,
      "outputs": [
        {
          "output_type": "stream",
          "text": [
            "Found GPU at: /device:GPU:0\n"
          ],
          "name": "stdout"
        }
      ]
    },
    {
      "metadata": {
        "id": "wg_glezh_n25",
        "colab_type": "text"
      },
      "cell_type": "markdown",
      "source": [
        "\n",
        "Após importar as bibliotecas para o uso neste código e validar o uso da GPU, o trecho abaixo inicia a carga na memória dos dados dos pacietes, descreve as variáveis e imprime 10 linhas de exemplos.\n"
      ]
    },
    {
      "metadata": {
        "id": "cgxrR1N50iuT",
        "colab_type": "code",
        "colab": {
          "base_uri": "https://localhost:8080/",
          "height": 292
        },
        "outputId": "018a91bc-c73c-45b0-e262-08499e69139c"
      },
      "cell_type": "code",
      "source": [
        "heart = Table(\"heart_disease\")\n",
        "\n",
        "n = len(heart.domain.attributes)\n",
        "n_cont = sum(1 for a in heart.domain.attributes if a.is_continuous)\n",
        "n_disc = sum(1 for a in heart.domain.attributes if a.is_discrete)\n",
        "print(\"%d variáveis: %d continuas, %d discretas\" % (n, n_cont, n_disc))\n",
        "\n",
        "print(\"Atributos:\", \", \".join(x.name for x in heart.domain.attributes))\n",
        "print(\"Classe:\", heart.domain.class_var.name)\n",
        "print(\"Distribuição da Classe:\",Counter(str(d.get_class()) for d in heart))\n",
        "print(\"Total de Instâncias\", len(heart))\n",
        "\n",
        "print(\"Amostra:\" ,heart[:10])\n",
        "\n"
      ],
      "execution_count": 3,
      "outputs": [
        {
          "output_type": "stream",
          "text": [
            "13 variáveis: 6 continuas, 7 discretas\n",
            "Atributos: age, gender, chest pain, rest SBP, cholesterol, fasting blood sugar > 120, rest ECG, max HR, exerc ind ang, ST by exercise, slope peak exc ST, major vessels colored, thal\n",
            "Classe: diameter narrowing\n",
            "Distribuição da Classe: Counter({'0': 164, '1': 139})\n",
            "Total de Instâncias 303\n",
            "Amostra: [[63, male, typical ang, 145, 233, 1, left vent hypertrophy, 150, 0, 2.3, downsloping, 0, fixed defect | 0],\n",
            " [67, male, asymptomatic, 160, 286, 0, left vent hypertrophy, 108, 1, 1.5, flat, 3, normal | 1],\n",
            " [67, male, asymptomatic, 120, 229, 0, left vent hypertrophy, 129, 1, 2.6, flat, 2, reversable defect | 1],\n",
            " [37, male, non-anginal, 130, 250, 0, normal, 187, 0, 3.5, downsloping, 0, normal | 0],\n",
            " [41, female, atypical ang, 130, 204, 0, left vent hypertrophy, 172, 0, 1.4, upsloping, 0, normal | 0],\n",
            " [56, male, atypical ang, 120, 236, 0, normal, 178, 0, 0.8, upsloping, 0, normal | 0],\n",
            " [62, female, asymptomatic, 140, 268, 0, left vent hypertrophy, 160, 0, 3.6, downsloping, 2, normal | 1],\n",
            " [57, female, asymptomatic, 120, 354, 0, normal, 163, 1, 0.6, upsloping, 0, normal | 0],\n",
            " [63, male, asymptomatic, 130, 254, 0, left vent hypertrophy, 147, 0, 1.4, flat, 1, reversable defect | 1],\n",
            " [53, male, asymptomatic, 140, 203, 1, left vent hypertrophy, 155, 1, 3.1, downsloping, 0, reversable defect | 1]]\n"
          ],
          "name": "stdout"
        }
      ]
    },
    {
      "metadata": {
        "id": "XeXBASVpBZTA",
        "colab_type": "text"
      },
      "cell_type": "markdown",
      "source": [
        "Após, é feito o treinamento com validação cruzada (k=5) na classificação de pacientes, retornando a probabilidade de um paciente estar doente (1) ou não (0).  Teste os resultados utilizando k=50.\n"
      ]
    },
    {
      "metadata": {
        "id": "fE1WJSDG0iud",
        "colab_type": "code",
        "colab": {}
      },
      "cell_type": "code",
      "source": [
        "nb = NaiveBayesLearner()\n",
        "dt = TreeLearner(max_depth=3)\n",
        "rf = Orange.classification.RandomForestLearner(n_estimators=100)\n",
        "scores = CrossValidation(heart, [nb, dt, rf] , k=5)\n",
        "\n",
        "\n",
        "print(\"Naive Bayes\")\n",
        "print(\"Accuracy: %.3f\" % Orange.evaluation.scoring.CA(scores)[0])\n",
        "print(\"AUC:      %.3f\" % Orange.evaluation.scoring.AUC(scores)[0])\n",
        "\n",
        "print(\"Decision Tree\")\n",
        "print(\"Accuracy: %.3f\" % Orange.evaluation.scoring.CA(scores)[1])\n",
        "print(\"AUC:      %.3f\" % Orange.evaluation.scoring.AUC(scores)[1])\n",
        "\n",
        "print(\"Random Forrest\")\n",
        "print(\"Accuracy: %.3f\" % Orange.evaluation.scoring.CA(scores)[2])\n",
        "print(\"AUC:      %.3f\" % Orange.evaluation.scoring.AUC(scores)[2])\n",
        "\n",
        "#take probabilites of class 1 (sick)\n",
        "p1 = scores.probabilities[0][:, 1]\n",
        "p2 = scores.probabilities[1][:, 1]\n",
        "p3 = scores.probabilities[2][:, 1]\n",
        "\n",
        "\n",
        "#take actual class values\n",
        "y = scores.actual\n",
        "\n",
        "print(y)\n"
      ],
      "execution_count": 0,
      "outputs": []
    },
    {
      "metadata": {
        "id": "95fK_wTtfF7Y",
        "colab_type": "text"
      },
      "cell_type": "markdown",
      "source": [
        "Foram comparados os seguintes algoritmos:\n",
        "\n",
        "**Random Forest**\n",
        "classification.RandomForestLearner(n_estimators=10, criterion='gini', max_depth=None, min_samples_split=2, min_samples_leaf=1, min_weight_fraction_leaf=0.0, max_features='auto', max_leaf_nodes=None, bootstrap=True, oob_score=False, n_jobs=1, random_state=None, verbose=0, class_weight=None, preprocessors=None)\n",
        "\n",
        "A random forest is a meta estimator that fits a number of decision tree classifiers on various sub-samples of the dataset and use averaging to improve the predictive accuracy and control over-fitting. \n",
        "\n",
        "**Naive Bayes**\n",
        "classification.NaiveBayesLearner(preprocessors=None)\n",
        "Naive Bayes classifier. Works only with discrete attributes. By default, continuous attributes are discretized.\n",
        "\n",
        "\n",
        "**Decision Tree**\n",
        "classification.TreeLearner(args, binarize=False, max_depth=None, min_samples_leaf=1, min_samples_split=2, sufficient_majority=0.95, preprocessors=None).\n",
        "\n",
        "The tree growth can be limited by the required number of instances for internal nodes and for leafs, the sufficient proportion of majority class, and by the maximal depth of the tree.\n"
      ]
    },
    {
      "metadata": {
        "id": "RHU5e0xoH8XW",
        "colab_type": "code",
        "colab": {
          "base_uri": "https://localhost:8080/",
          "height": 34
        },
        "outputId": "d8c6d18a-5aa6-4e88-ceb6-887a4abaa067"
      },
      "cell_type": "code",
      "source": [
        "#Custo de R$500,00 para os Falso-positivos (paciente classificado doente quando saudável)\n",
        "fp_cost = 500\n",
        "\n",
        "#Custo de R$800,00 do Falso-negativo (paciente classificado saudável quaando doente)\n",
        "fn_cost = 800\n",
        "\n",
        "#declaramos que o threshold > 1 (ninguém está doente)\n",
        "#falso positivo = 0\n",
        "fp = 0\n",
        "#falso negativo inicia com o nro de verdadeiros positivos\n",
        "fn = np.sum(y)\n",
        "\n",
        "print (\"Total de verdadeiros positivos (1):\",fn)"
      ],
      "execution_count": 121,
      "outputs": [
        {
          "output_type": "stream",
          "text": [
            "Total de verdadeiros positivos (1): 139.0\n"
          ],
          "name": "stdout"
        }
      ]
    },
    {
      "metadata": {
        "id": "n2nEyWaImF6Y",
        "colab_type": "text"
      },
      "cell_type": "markdown",
      "source": [
        "Para cada treshold calculamos um vetor de probabilidades (ps) e custos associados (costs)."
      ]
    },
    {
      "metadata": {
        "id": "SkhvNPse0iuf",
        "colab_type": "code",
        "colab": {}
      },
      "cell_type": "code",
      "source": [
        "ps = []\n",
        "costs = []\n",
        "#calcula os custos de classificar i pacientes como doentes (Naive Bayes)\n",
        "for i in np.argsort(p1)[::-1]:\n",
        "   if y[i] == 0:\n",
        "       fp += 1\n",
        "   else:\n",
        "       fn -= 1\n",
        "   ps.append(p1[i])\n",
        "   costs.append(fp * fp_cost + fn * fn_cost)\n",
        "    \n",
        "    \n"
      ],
      "execution_count": 0,
      "outputs": []
    },
    {
      "metadata": {
        "id": "aqgotv7fn6C6",
        "colab_type": "code",
        "colab": {
          "base_uri": "https://localhost:8080/",
          "height": 34
        },
        "outputId": "7b2a26ab-c19b-479c-fd55-224e4bf21e1a"
      },
      "cell_type": "code",
      "source": [
        "costs = np.array(costs)\n",
        "#find probability of a patient being sick at lowest cost\n",
        "print(ps[costs.argmin()])\n"
      ],
      "execution_count": 123,
      "outputs": [
        {
          "output_type": "stream",
          "text": [
            "0.35199323\n"
          ],
          "name": "stdout"
        }
      ]
    },
    {
      "metadata": {
        "id": "JMi5W0j1tuBO",
        "colab_type": "text"
      },
      "cell_type": "markdown",
      "source": [
        "Este é o treshold que minimiza os custos da classificação dos pacientes.\n",
        "\n",
        "Ao final, compreendemos que Sara pode mandar fazer o novo exame em todos os pacientes que apresentarem a probabilidade de estarem doentes maior ou igual a 0,35. \n",
        "\n",
        "O gráfico para analisar o treshold pode ser representado assim:"
      ]
    },
    {
      "metadata": {
        "id": "8SIMks_T0iuo",
        "colab_type": "code",
        "colab": {
          "base_uri": "https://localhost:8080/",
          "height": 296
        },
        "outputId": "7744bd3f-fca3-4095-94db-4aa185d0c241"
      },
      "cell_type": "code",
      "source": [
        "fig, ax = plt.subplots()\n",
        "plt.plot(ps, costs)\n",
        "ax.set_xlabel('Paciente Enviado')\n",
        "ax.set_ylabel('Custo')"
      ],
      "execution_count": 126,
      "outputs": [
        {
          "output_type": "execute_result",
          "data": {
            "text/plain": [
              "Text(0,0.5,'Custo')"
            ]
          },
          "metadata": {
            "tags": []
          },
          "execution_count": 126
        },
        {
          "output_type": "display_data",
          "data": {
            "image/png": "[encoded data removed]",
            "text/plain": [
              "<matplotlib.figure.Figure at 0x7ff1db88aba8>"
            ]
          },
          "metadata": {
            "tags": []
          }
        }
      ]
    },
    {
      "metadata": {
        "id": "TvQXr6aK0iut",
        "colab_type": "code",
        "colab": {}
      },
      "cell_type": "code",
      "source": [
        ""
      ],
      "execution_count": 0,
      "outputs": []
    }
  ]
}