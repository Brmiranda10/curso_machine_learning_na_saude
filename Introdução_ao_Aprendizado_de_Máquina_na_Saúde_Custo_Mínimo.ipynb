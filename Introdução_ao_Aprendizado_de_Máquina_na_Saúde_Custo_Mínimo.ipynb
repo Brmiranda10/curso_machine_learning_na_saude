{
  "nbformat": 4,
  "nbformat_minor": 0,
  "metadata": {
    "colab": {
      "name": "Introdução ao Aprendizado de Máquina na Saúde - Custo Mínimo.ipynb",
      "version": "0.3.2",
      "provenance": [],
      "collapsed_sections": [],
      "include_colab_link": true
    },
    "kernelspec": {
      "display_name": "Python 3",
      "language": "python",
      "name": "python3"
    },
    "accelerator": "GPU"
  },
  "cells": [
    {
      "cell_type": "markdown",
      "metadata": {
        "id": "view-in-github",
        "colab_type": "text"
      },
      "source": [
        "[View in Colaboratory](https://colab.research.google.com/github/tiagoandresvaz/curso_machine_learning_na_saude/blob/master/Introdu%C3%A7%C3%A3o_ao_Aprendizado_de_M%C3%A1quina_na_Sa%C3%BAde_Custo_M%C3%ADnimo.ipynb)"
      ]
    },
    {
      "metadata": {
        "id": "1RuDRQFWnNZs",
        "colab_type": "text"
      },
      "cell_type": "markdown",
      "source": [
        "**Introdução ao Aprendizado de Máquina na Saúde - Custo Mínimo.ipynb**\n",
        "\n",
        "```\n",
        "Utiliza dados de 303 pacientes para inferir com o uso dos algoritmos Naive Bayes, Decision Tree e Random Forest a melhor resposta para a pergunta: \n",
        "\n",
        "Quais pacientes devem fazer um novo tipo de exame com objetivo de evitar ao máximo o desperdício de recursos financeiros? \n",
        "\n",
        "Segundo os gestores do hospital, cada erro está associado a um custo financeiro de até oitocentos reais.\n",
        "\n",
        "```\n",
        "\n",
        "\n",
        "\n"
      ]
    },
    {
      "metadata": {
        "id": "A3JqVU7YAQDs",
        "colab_type": "text"
      },
      "cell_type": "markdown",
      "source": [
        " 1- Inicia instalando no ambiente do usuário no Google Colab os pacotes:\n",
        "\n",
        "**Matplotlib** \n",
        "\n",
        "https://matplotlib.org/\n",
        "\n",
        "**Orange**\n",
        "\n",
        "https://orange.biolab.si\n",
        "\n",
        "\n"
      ]
    },
    {
      "metadata": {
        "id": "j_sDg7Jp-iux",
        "colab_type": "code",
        "colab": {
          "base_uri": "https://localhost:8080/",
          "height": 1363
        },
        "outputId": "1e188ab6-390a-436c-a297-3be98ccbdd9a"
      },
      "cell_type": "code",
      "source": [
        "!pip install -q matplotlib\n",
        "!pip install Orange3\n"
      ],
      "execution_count": 4,
      "outputs": [
        {
          "output_type": "stream",
          "text": [
            "Collecting Orange3\n",
            "\u001b[?25l  Downloading https://files.pythonhosted.org/packages/c1/c7/7a2a7de1fd5f8c4035374c31af62ce04f0c4d2f066c61746f7145836ac77/Orange3-3.16.0.tar.gz (22.4MB)\n",
            "\u001b[K    100% |████████████████████████████████| 22.4MB 2.0MB/s \n",
            "\u001b[?25hCollecting AnyQt>=0.0.8 (from Orange3)\n",
            "  Downloading https://files.pythonhosted.org/packages/7c/32/f6ae3ad3be05722d344ff8d202d4f0382f7fc75e1ad2fd49cc36ccd2e8a7/AnyQt-0.0.8-py2.py3-none-any.whl\n",
            "Collecting bottleneck>=1.0.0 (from Orange3)\n",
            "\u001b[?25l  Downloading https://files.pythonhosted.org/packages/05/ae/cedf5323f398ab4e4ff92d6c431a3e1c6a186f9b41ab3e8258dff786a290/Bottleneck-1.2.1.tar.gz (105kB)\n",
            "\u001b[K    100% |████████████████████████████████| 112kB 26.7MB/s \n",
            "\u001b[?25hRequirement already satisfied: chardet>=3.0.2 in /usr/local/lib/python3.6/dist-packages (from Orange3) (3.0.4)\n",
            "Collecting docutils (from Orange3)\n",
            "\u001b[?25l  Downloading https://files.pythonhosted.org/packages/36/fa/08e9e6e0e3cbd1d362c3bbee8d01d0aedb2155c4ac112b19ef3cae8eed8d/docutils-0.14-py3-none-any.whl (543kB)\n",
            "\u001b[K    100% |████████████████████████████████| 552kB 23.9MB/s \n",
            "\u001b[?25hRequirement already satisfied: joblib>=0.9.4 in /usr/local/lib/python3.6/dist-packages (from Orange3) (0.12.5)\n",
            "Collecting keyring (from Orange3)\n",
            "  Downloading https://files.pythonhosted.org/packages/6c/3f/7a3f780dfa9ee5708507090ce15d6707aded2865f9e6999f48fa88b65bf3/keyring-15.1.0-py2.py3-none-any.whl\n",
            "Collecting keyrings.alt (from Orange3)\n",
            "  Downloading https://files.pythonhosted.org/packages/f7/db/202fe99c9f6d75c7810cb3af7d791479df0dd942f2bac2425646c0ad3db8/keyrings.alt-3.1-py2.py3-none-any.whl\n",
            "Requirement already satisfied: matplotlib>=2.0.0 in /usr/local/lib/python3.6/dist-packages (from Orange3) (2.1.2)\n",
            "Requirement already satisfied: networkx in /usr/local/lib/python3.6/dist-packages (from Orange3) (2.1)\n",
            "Requirement already satisfied: numpy>=1.9.0 in /usr/local/lib/python3.6/dist-packages (from Orange3) (1.14.5)\n",
            "Requirement already satisfied: pip>=9.0 in /usr/local/lib/python3.6/dist-packages (from Orange3) (18.0)\n",
            "Collecting pyqtgraph>=0.10.0 (from Orange3)\n",
            "\u001b[?25l  Downloading https://files.pythonhosted.org/packages/cd/ad/307e0280df5c19986c4206d138ec3a8954afc722cea991f4adb4a16337d9/pyqtgraph-0.10.0.tar.gz (1.5MB)\n",
            "\u001b[K    100% |████████████████████████████████| 1.6MB 18.4MB/s \n",
            "\u001b[?25hCollecting python-louvain (from Orange3)\n",
            "  Downloading https://files.pythonhosted.org/packages/c2/15/0d0e3ace40e9462ce14e0a848b3bd60c2f58296b3505b0aad75486b04cdf/python-louvain-0.11.tar.gz\n",
            "Requirement already satisfied: scikit-learn>=0.18.1 in /usr/local/lib/python3.6/dist-packages (from Orange3) (0.19.2)\n",
            "Requirement already satisfied: scipy>=0.16.1 in /usr/local/lib/python3.6/dist-packages (from Orange3) (0.19.1)\n",
            "Collecting serverfiles (from Orange3)\n",
            "  Downloading https://files.pythonhosted.org/packages/85/97/f1e939373e40ae034f5535d8e567ec2dc3029d8045b6373a8783b3394cb7/serverfiles-0.2.1.tar.gz\n",
            "Requirement already satisfied: setuptools>=36.3 in /usr/local/lib/python3.6/dist-packages (from Orange3) (39.1.0)\n",
            "Collecting xlrd>=0.9.2 (from Orange3)\n",
            "\u001b[?25l  Downloading https://files.pythonhosted.org/packages/07/e6/e95c4eec6221bfd8528bcc4ea252a850bffcc4be88ebc367e23a1a84b0bb/xlrd-1.1.0-py2.py3-none-any.whl (108kB)\n",
            "\u001b[K    100% |████████████████████████████████| 112kB 27.0MB/s \n",
            "\u001b[?25hRequirement already satisfied: entrypoints in /usr/local/lib/python3.6/dist-packages (from keyring->Orange3) (0.2.3)\n",
            "Collecting secretstorage; sys_platform == \"linux\" and python_version >= \"3.5\" (from keyring->Orange3)\n",
            "  Downloading https://files.pythonhosted.org/packages/d8/e8/80975fd281764c80b2eb581a7f25d2109786e273b8925e8161bd2d06d10a/SecretStorage-3.1.0-py3-none-any.whl\n",
            "Requirement already satisfied: six in /usr/local/lib/python3.6/dist-packages (from keyrings.alt->Orange3) (1.11.0)\n",
            "Requirement already satisfied: cycler>=0.10 in /usr/local/lib/python3.6/dist-packages (from matplotlib>=2.0.0->Orange3) (0.10.0)\n",
            "Requirement already satisfied: pyparsing!=2.0.4,!=2.1.2,!=2.1.6,>=2.0.1 in /usr/local/lib/python3.6/dist-packages (from matplotlib>=2.0.0->Orange3) (2.2.0)\n",
            "Requirement already satisfied: pytz in /usr/local/lib/python3.6/dist-packages (from matplotlib>=2.0.0->Orange3) (2018.5)\n",
            "Requirement already satisfied: python-dateutil>=2.1 in /usr/local/lib/python3.6/dist-packages (from matplotlib>=2.0.0->Orange3) (2.5.3)\n",
            "Requirement already satisfied: decorator>=4.1.0 in /usr/local/lib/python3.6/dist-packages (from networkx->Orange3) (4.3.0)\n",
            "Requirement already satisfied: requests>=2.11.1 in /usr/local/lib/python3.6/dist-packages (from serverfiles->Orange3) (2.18.4)\n",
            "Collecting jeepney (from secretstorage; sys_platform == \"linux\" and python_version >= \"3.5\"->keyring->Orange3)\n",
            "\u001b[?25l  Downloading https://files.pythonhosted.org/packages/a9/21/c07060fac57d8d4932ccb19f96b244ff056f13192993d2d1253fb87d6784/jeepney-0.3.1-py3-none-any.whl (55kB)\n",
            "\u001b[K    100% |████████████████████████████████| 61kB 25.5MB/s \n",
            "\u001b[?25hCollecting cryptography (from secretstorage; sys_platform == \"linux\" and python_version >= \"3.5\"->keyring->Orange3)\n",
            "\u001b[?25l  Downloading https://files.pythonhosted.org/packages/59/32/92cade62c645756a83598edf56289e9b19aae5370642a7ce690cd06bc72f/cryptography-2.3.1-cp34-abi3-manylinux1_x86_64.whl (2.1MB)\n",
            "\u001b[K    100% |████████████████████████████████| 2.1MB 10.3MB/s \n",
            "\u001b[?25hRequirement already satisfied: idna<2.7,>=2.5 in /usr/local/lib/python3.6/dist-packages (from requests>=2.11.1->serverfiles->Orange3) (2.6)\n",
            "Requirement already satisfied: urllib3<1.23,>=1.21.1 in /usr/local/lib/python3.6/dist-packages (from requests>=2.11.1->serverfiles->Orange3) (1.22)\n",
            "Requirement already satisfied: certifi>=2017.4.17 in /usr/local/lib/python3.6/dist-packages (from requests>=2.11.1->serverfiles->Orange3) (2018.8.24)\n",
            "Collecting asn1crypto>=0.21.0 (from cryptography->secretstorage; sys_platform == \"linux\" and python_version >= \"3.5\"->keyring->Orange3)\n",
            "\u001b[?25l  Downloading https://files.pythonhosted.org/packages/ea/cd/35485615f45f30a510576f1a56d1e0a7ad7bd8ab5ed7cdc600ef7cd06222/asn1crypto-0.24.0-py2.py3-none-any.whl (101kB)\n",
            "\u001b[K    100% |████████████████████████████████| 102kB 29.3MB/s \n",
            "\u001b[?25hCollecting cffi!=1.11.3,>=1.7 (from cryptography->secretstorage; sys_platform == \"linux\" and python_version >= \"3.5\"->keyring->Orange3)\n",
            "\u001b[?25l  Downloading https://files.pythonhosted.org/packages/6d/c0/47db8f624f3e4e2f3f27be03a93379d1ba16a1450a7b1aacfa0366e2c0dd/cffi-1.11.5-cp36-cp36m-manylinux1_x86_64.whl (421kB)\n",
            "\u001b[K    100% |████████████████████████████████| 430kB 24.6MB/s \n",
            "\u001b[?25hCollecting pycparser (from cffi!=1.11.3,>=1.7->cryptography->secretstorage; sys_platform == \"linux\" and python_version >= \"3.5\"->keyring->Orange3)\n",
            "\u001b[?25l  Downloading https://files.pythonhosted.org/packages/8c/2d/aad7f16146f4197a11f8e91fb81df177adcc2073d36a17b1491fd09df6ed/pycparser-2.18.tar.gz (245kB)\n",
            "\u001b[K    100% |████████████████████████████████| 256kB 26.5MB/s \n",
            "\u001b[?25hBuilding wheels for collected packages: Orange3, bottleneck, pyqtgraph, python-louvain, serverfiles, pycparser\n",
            "  Running setup.py bdist_wheel for Orange3 ... \u001b[?25l-\b \b\\\b \b|\b \b/\b \b-\b \b\\\b \b|\b \b/\b \b-\b \b\\\b \b|\b \b/\b \b-\b \b\\\b \b|\b \b/\b \b-\b \b\\\b \b|\b \b/\b \b-\b \b\\\b \b|\b \b/\b \b-\b \b\\\b \bdone\n",
            "\u001b[?25h  Stored in directory: /root/.cache/pip/wheels/25/2e/3c/20bcffd8fc2bf6ac398ba69394f5c93e2f508fc45971018971\n",
            "  Running setup.py bdist_wheel for bottleneck ... \u001b[?25l-\b \b\\\b \b|\b \b/\b \b-\b \b\\\b \b|\b \b/\b \bdone\n",
            "\u001b[?25h  Stored in directory: /root/.cache/pip/wheels/f2/bf/ec/e0f39aa27001525ad455139ee57ec7d0776fe074dfd78c97e4\n",
            "  Running setup.py bdist_wheel for pyqtgraph ... \u001b[?25l-\b \b\\\b \b|\b \b/\b \b-\b \bdone\n",
            "\u001b[?25h  Stored in directory: /root/.cache/pip/wheels/93/a2/de/184ecdefdb91d760706d02389015dfa3b96e927eb1c42ace37\n",
            "  Running setup.py bdist_wheel for python-louvain ... \u001b[?25l-\b \bdone\n",
            "\u001b[?25h  Stored in directory: /root/.cache/pip/wheels/c3/b0/db/198c7453d5169907dbdbb090eebc0c6839f75e36b09c6dc7aa\n",
            "  Running setup.py bdist_wheel for serverfiles ... \u001b[?25l-\b \bdone\n",
            "\u001b[?25h  Stored in directory: /root/.cache/pip/wheels/57/61/89/2f39b97497f2412d900e50b4de558dad04e75fb880eb4cfbd5\n",
            "  Running setup.py bdist_wheel for pycparser ... \u001b[?25l-\b \b\\\b \bdone\n",
            "\u001b[?25h  Stored in directory: /root/.cache/pip/wheels/c0/a1/27/5ba234bd77ea5a290cbf6d675259ec52293193467a12ef1f46\n",
            "Successfully built Orange3 bottleneck pyqtgraph python-louvain serverfiles pycparser\n",
            "Installing collected packages: AnyQt, bottleneck, docutils, jeepney, asn1crypto, pycparser, cffi, cryptography, secretstorage, keyring, keyrings.alt, pyqtgraph, python-louvain, serverfiles, xlrd, Orange3\n",
            "Successfully installed AnyQt-0.0.8 Orange3-3.16.0 asn1crypto-0.24.0 bottleneck-1.2.1 cffi-1.11.5 cryptography-2.3.1 docutils-0.14 jeepney-0.3.1 keyring-15.1.0 keyrings.alt-3.1 pycparser-2.18 pyqtgraph-0.10.0 python-louvain-0.11 secretstorage-3.1.0 serverfiles-0.2.1 xlrd-1.1.0\n"
          ],
          "name": "stdout"
        }
      ]
    },
    {
      "metadata": {
        "id": "KchLUkGY0iuL",
        "colab_type": "code",
        "colab": {
          "base_uri": "https://localhost:8080/",
          "height": 34
        },
        "outputId": "0b3388f7-d60f-4966-f1b7-5fc2dda32c75"
      },
      "cell_type": "code",
      "source": [
        "import matplotlib.pyplot as plt\n",
        "import numpy as np\n",
        "import Orange \n",
        "from collections import Counter\n",
        "\n",
        "from Orange.data import Table\n",
        "from Orange.classification import NaiveBayesLearner, TreeLearner, RandomForestLearner \n",
        "from Orange.evaluation import CrossValidation\n",
        "from Orange.evaluation import AUC\n",
        "from Orange.evaluation import CA\n",
        "\n",
        "\n",
        "import tensorflow as tf\n",
        "device_name = tf.test.gpu_device_name()\n",
        "if device_name != '/device:GPU:0':\n",
        "  raise SystemError('GPU device not found')\n",
        "print('Found GPU at: {}'.format(device_name))"
      ],
      "execution_count": 5,
      "outputs": [
        {
          "output_type": "stream",
          "text": [
            "Found GPU at: /device:GPU:0\n"
          ],
          "name": "stdout"
        }
      ]
    },
    {
      "metadata": {
        "id": "wg_glezh_n25",
        "colab_type": "text"
      },
      "cell_type": "markdown",
      "source": [
        "\n",
        "2 - Após importar e declarar as bibliotecas para o uso neste código, valida o uso da GPU. \n",
        "\n",
        "O trecho abaixo inicia a carga na memória dos dados dos pacientes, descreve as variáveis e imprime 5 linhas de exemplos.\n"
      ]
    },
    {
      "metadata": {
        "id": "cgxrR1N50iuT",
        "colab_type": "code",
        "colab": {
          "base_uri": "https://localhost:8080/",
          "height": 207
        },
        "outputId": "6f396fae-c9f5-4e84-bb0f-f91bea45a8ef"
      },
      "cell_type": "code",
      "source": [
        "heart = Table(\"heart_disease\")\n",
        "\n",
        "n = len(heart.domain.attributes)\n",
        "n_cont = sum(1 for a in heart.domain.attributes if a.is_continuous)\n",
        "n_disc = sum(1 for a in heart.domain.attributes if a.is_discrete)\n",
        "\n",
        "print(\"Atributos:\", \", \".join(x.name for x in heart.domain.attributes))\n",
        "print(\"Classe:\", heart.domain.class_var.name)\n",
        "print(\"%d variáveis: %d continuas, %d discretas\" % (n, n_cont, n_disc))\n",
        "print(\"Total de Instâncias\", len(heart))\n",
        "\n",
        "print(\"Distribuição da Classe:\",Counter(str(d.get_class()) for d in heart))\n",
        "\n",
        "print(\"Amostra:\" ,heart[:5])\n",
        "\n"
      ],
      "execution_count": 6,
      "outputs": [
        {
          "output_type": "stream",
          "text": [
            "Atributos: age, gender, chest pain, rest SBP, cholesterol, fasting blood sugar > 120, rest ECG, max HR, exerc ind ang, ST by exercise, slope peak exc ST, major vessels colored, thal\n",
            "Classe: diameter narrowing\n",
            "13 variáveis: 6 continuas, 7 discretas\n",
            "Total de Instâncias 303\n",
            "Distribuição da Classe: Counter({'0': 164, '1': 139})\n",
            "Amostra: [[63, male, typical ang, 145, 233, 1, left vent hypertrophy, 150, 0, 2.3, downsloping, 0, fixed defect | 0],\n",
            " [67, male, asymptomatic, 160, 286, 0, left vent hypertrophy, 108, 1, 1.5, flat, 3, normal | 1],\n",
            " [67, male, asymptomatic, 120, 229, 0, left vent hypertrophy, 129, 1, 2.6, flat, 2, reversable defect | 1],\n",
            " [37, male, non-anginal, 130, 250, 0, normal, 187, 0, 3.5, downsloping, 0, normal | 0],\n",
            " [41, female, atypical ang, 130, 204, 0, left vent hypertrophy, 172, 0, 1.4, upsloping, 0, normal | 0]]\n"
          ],
          "name": "stdout"
        }
      ]
    },
    {
      "metadata": {
        "id": "XeXBASVpBZTA",
        "colab_type": "text"
      },
      "cell_type": "markdown",
      "source": [
        "3 - Após, é feito o treinamento com validação cruzada (k=5) na classificação de pacientes, retornando a probabilidade de um paciente estar doente.  (Faça um teste e compare com os resultados utilizando k=50)\n"
      ]
    },
    {
      "metadata": {
        "id": "fE1WJSDG0iud",
        "colab_type": "code",
        "colab": {
          "base_uri": "https://localhost:8080/",
          "height": 272
        },
        "outputId": "15751079-8bf8-4d3f-903f-efd04163a015"
      },
      "cell_type": "code",
      "source": [
        "nb = NaiveBayesLearner()\n",
        "dt = TreeLearner(max_depth=3)\n",
        "rf = RandomForestLearner(n_estimators=100)\n",
        "learners = [nb, dt, rf]\n",
        "scores = CrossValidation(heart, learners , k=5)\n",
        "\n",
        "print(\"COMPARANDO MODELOS PREDITIVOS: Acurácia, Area Under The Curve (AUC)\")\n",
        "print(\"Naive Bayes\")\n",
        "print(\"Acurácia: %.2f\" % CA(scores)[0])\n",
        "print(\"AUC:      %.2f\" % AUC(scores)[0])\n",
        "\n",
        "print(\"Decision Tree\")\n",
        "print(\"Acurácia: %.2f\" % CA(scores)[1])\n",
        "print(\"AUC:      %.2f\" % AUC(scores)[1])\n",
        "\n",
        "print(\"Random Forrest\")\n",
        "print(\"Acurácia: %.2f\" % CA(scores)[2])\n",
        "print(\"AUC:      %.2f\" % AUC(scores)[2])\n",
        "\n",
        "#calcula as probabilidades do paciente esta doente (1) com os 3 modelos\n",
        "p1 = scores.probabilities[0][:, 1]\n",
        "p2 = scores.probabilities[1][:, 1]\n",
        "p3 = scores.probabilities[2][:, 1]\n",
        "\n",
        "print(\"COMPARANDO RESULTADOS PREDITIVOS: Amostra de 5 pacientes\")\n",
        "#mostra valores reais, se o paciente esta doente (1) ou não (0)\n",
        "y = scores.actual\n",
        "print(\"Real\",y[:5])\n",
        "\n",
        "#mostra probabilidades calculadas por cada algoritmo\n",
        "print(\"Naive Bayes\",p1[:5])\n",
        "print(\"Decision Tree\",p2[:5])\n",
        "print(\"Random Forrest\",p3[:5])\n"
      ],
      "execution_count": 7,
      "outputs": [
        {
          "output_type": "stream",
          "text": [
            "COMPARANDO MODELOS PREDITIVOS: Acurácia, Area Under The Curve (AUC)\n",
            "Naive Bayes\n",
            "Acurácia: 0.83\n",
            "AUC:      0.91\n",
            "Decision Tree\n",
            "Acurácia: 0.72\n",
            "AUC:      0.77\n",
            "Random Forrest\n",
            "Acurácia: 0.81\n",
            "AUC:      0.90\n",
            "COMPARANDO RESULTADOS PREDITIVOS: Amostra de 5 pacientes\n",
            "Real [1. 0. 0. 1. 1.]\n",
            "Naive Bayes [0.9274096  0.00225076 0.03782657 0.75856656 0.9936614 ]\n",
            "Decision Tree [0.8518519 0.5       0.5185185 0.        0.6666667]\n",
            "Random Forrest [0.7  0.21 0.2  0.51 0.68]\n"
          ],
          "name": "stdout"
        }
      ]
    },
    {
      "metadata": {
        "id": "95fK_wTtfF7Y",
        "colab_type": "text"
      },
      "cell_type": "markdown",
      "source": [
        "Foram comparados os seguintes algoritmos:\n",
        "\n",
        "\n",
        "**Naive Bayes**\n",
        "classification.NaiveBayesLearner(preprocessors=None)\n",
        "Naive Bayes classifier. Works only with discrete attributes. By default, continuous attributes are discretized.\n",
        "\n",
        "\n",
        "**Decision Tree**\n",
        "classification.TreeLearner(args, binarize=False, max_depth=None, min_samples_leaf=1, min_samples_split=2, sufficient_majority=0.95, preprocessors=None).\n",
        "\n",
        "The tree growth can be limited by the required number of instances for internal nodes and for leafs, the sufficient proportion of majority class, and by the maximal depth of the tree.\n",
        "\n",
        "**Random Forest**\n",
        "classification.RandomForestLearner(n_estimators=10, criterion='gini', max_depth=None, min_samples_split=2, min_samples_leaf=1, min_weight_fraction_leaf=0.0, max_features='auto', max_leaf_nodes=None, bootstrap=True, oob_score=False, n_jobs=1, random_state=None, verbose=0, class_weight=None, preprocessors=None)\n",
        "\n",
        "A random forest is a meta estimator that fits a number of decision tree classifiers on various sub-samples of the dataset and use averaging to improve the predictive accuracy and control over-fitting. \n"
      ]
    },
    {
      "metadata": {
        "id": "SkhvNPse0iuf",
        "colab_type": "code",
        "colab": {
          "base_uri": "https://localhost:8080/",
          "height": 119
        },
        "outputId": "1e432ce8-fdff-487e-ec03-f54d6148e58d"
      },
      "cell_type": "code",
      "source": [
        "#Para cada treshold calculamos um vetor de probabilidades (ps) e custos associados (costs).\n",
        "\n",
        "#Custo de R$700,00 para os Falso-positivos (paciente classificado doente quando saudável)\n",
        "fp_cost = 700\n",
        "\n",
        "#Custo de R$800,00 do Falso-negativo (paciente classificado saudável quando doente)\n",
        "fn_cost = 800\n",
        "\n",
        "#declaramos que o threshold > 1 (ninguém está doente)\n",
        "#falso positivo = 0\n",
        "fp = 0\n",
        "#falso negativo inicia com o nro de verdadeiros positivos\n",
        "fn = np.sum(y)\n",
        "\n",
        "print (\"Total de falso positivos:\", fp)\n",
        "print (\"Total de falso negativo:\", fn)\n",
        "\n",
        "ps = []\n",
        "costs = []\n",
        "#calcula os custos de classificar i pacientes como doentes (Naive Bayes)\n",
        "for i in np.argsort(p1)[::-1]:\n",
        "   if y[i] == 0:\n",
        "       fp += 1\n",
        "       #print(fp)\n",
        "   else:\n",
        "       fn -= 1\n",
        "       #print(fn)\n",
        "\n",
        "   ps.append(p1[i])\n",
        "   costs.append(fp * fp_cost + fn * fn_cost)\n",
        "   \n",
        "print(\"Amostra do vetor com as probabilidades\",ps[:5])\n",
        "print (\"Amostra do vetor com previsões de custos\",costs[:5])\n",
        "#ordena as previsões de custos e seleciona a probabilidade relacionada ao menor custo encontrado\n",
        "costs = np.array(costs)\n",
        "ps = np.array(ps)\n",
        "\n",
        "#Para ver os datasets completos\n",
        "#print(costs)\n",
        "#print(ps)\n",
        "\n",
        "#pacientes acima desta probabilidade trarão o menor custo\n",
        "print(\"Treshold: \", ps[costs.argmin()])\n",
        "print(\"Custo mínimo: R$\",costs[costs.argmin()])\n",
        "\n",
        "\n"
      ],
      "execution_count": 8,
      "outputs": [
        {
          "output_type": "stream",
          "text": [
            "Total de falso positivos: 0\n",
            "Total de falso negativo: 139.0\n",
            "Amostra do vetor com as probabilidades [0.9999724, 0.99996626, 0.9999407, 0.99993646, 0.9999265]\n",
            "Amostra do vetor com previsões de custos [110400.0, 109600.0, 108800.0, 108000.0, 107200.0]\n",
            "Treshold:  0.57604045\n",
            "Custo mínimo: R$ 37100.0\n"
          ],
          "name": "stdout"
        }
      ]
    },
    {
      "metadata": {
        "id": "JMi5W0j1tuBO",
        "colab_type": "text"
      },
      "cell_type": "markdown",
      "source": [
        "4 - Este resultado é o treshold que minimiza os custos da classificação dos pacientes.\n",
        "\n",
        "Ao final, compreendemos que os médicos podem mandar fazer o novo exame em todos os pacientes que no futuro apresentarem a probabilidade de estarem doentes maior ou igual a este treshold. \n",
        "\n",
        "O gráfico para analisar o treshold pode ser representado assim:"
      ]
    },
    {
      "metadata": {
        "id": "8SIMks_T0iuo",
        "colab_type": "code",
        "colab": {
          "base_uri": "https://localhost:8080/",
          "height": 378
        },
        "outputId": "804d6359-9bb0-4c5c-869d-2f90567efb8b"
      },
      "cell_type": "code",
      "source": [
        "fig, ax = plt.subplots()\n",
        "plt.plot(ps, costs)\n",
        "ax.set_xlabel('Paciente Enviado')\n",
        "ax.set_ylabel('Custo')"
      ],
      "execution_count": 9,
      "outputs": [
        {
          "output_type": "execute_result",
          "data": {
            "text/plain": [
              "Text(0,0.5,'Custo')"
            ]
          },
          "metadata": {
            "tags": []
          },
          "execution_count": 9
        },
        {
          "output_type": "display_data",
          "data": {
            "image/png": "[encoded data removed]",
            "text/plain": [
              "<matplotlib.figure.Figure at 0x7f100431b4a8>"
            ]
          },
          "metadata": {
            "tags": []
          }
        }
      ]
    },
    {
      "metadata": {
        "id": "TvQXr6aK0iut",
        "colab_type": "code",
        "colab": {}
      },
      "cell_type": "code",
      "source": [
        ""
      ],
      "execution_count": 0,
      "outputs": []
    }
  ]
}