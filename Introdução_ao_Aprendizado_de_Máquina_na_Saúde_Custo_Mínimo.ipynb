{
  "nbformat": 4,
  "nbformat_minor": 0,
  "metadata": {
    "colab": {
      "name": "Introdução ao Aprendizado de Máquina na Saúde - Custo Mínimo.ipynb",
      "version": "0.3.2",
      "provenance": [],
      "include_colab_link": true
    },
    "kernelspec": {
      "display_name": "Python 3",
      "language": "python",
      "name": "python3"
    },
    "accelerator": "GPU"
  },
  "cells": [
    {
      "cell_type": "markdown",
      "metadata": {
        "id": "view-in-github",
        "colab_type": "text"
      },
      "source": [
        "[View in Colaboratory](https://colab.research.google.com/github/tiagoandresvaz/curso_machine_learning_na_saude/blob/master/Introdu%C3%A7%C3%A3o_ao_Aprendizado_de_M%C3%A1quina_na_Sa%C3%BAde_Custo_M%C3%ADnimo.ipynb)"
      ]
    },
    {
      "metadata": {
        "id": "1RuDRQFWnNZs",
        "colab_type": "text"
      },
      "cell_type": "markdown",
      "source": [
        "\n",
        "\n",
        "```\n",
        "**Introdução ao Aprendizado de Máquina na Saúde**\n",
        "\n",
        "Código Fonte: Custo Mínimo.ipynb\n",
        "\n",
        "Descrição: Utiliza dados de 303 pacientes para inferir com o uso de redes baesyanas sobre a quantidade de pacientes a serem enviados para fazer um novo tipo de exame. Cada erro está associado a um custo de R$300,00 que poderia ser evitado.\n",
        "\n",
        "```\n",
        "\n",
        "\n",
        "\n"
      ]
    },
    {
      "metadata": {
        "id": "KchLUkGY0iuL",
        "colab_type": "code",
        "colab": {
          "base_uri": "https://localhost:8080/",
          "height": 1397
        },
        "outputId": "5de496c3-87ed-47d1-983c-dc773cd66365"
      },
      "cell_type": "code",
      "source": [
        "!pip install -q matplotlib-venn\n",
        "!pip install Orange3-Educational\n",
        "\n",
        "\n",
        "%matplotlib inline\n",
        "import matplotlib.pyplot as plt\n",
        "import numpy as np\n",
        "\n",
        "from Orange.data import Table\n",
        "from Orange.classification import NaiveBayesLearner, TreeLearner\n",
        "from Orange.evaluation import CrossValidation"
      ],
      "execution_count": 1,
      "outputs": [
        {
          "output_type": "stream",
          "text": [
            "Collecting Orange3-Educational\n",
            "\u001b[?25l  Downloading https://files.pythonhosted.org/packages/6f/8e/7e5990d2203489a02472a7c6ae2bbac7ebf56c284b3433bce24a20cc9b56/Orange3_Educational-0.1.8-py3-none-any.whl (2.5MB)\n",
            "\u001b[K    100% |████████████████████████████████| 2.5MB 7.1MB/s \n",
            "\u001b[?25hCollecting Orange3 (from Orange3-Educational)\n",
            "\u001b[?25l  Downloading https://files.pythonhosted.org/packages/26/60/77575ccb4970371fd5a292bc999ba17a4f12af96de96af02a7ba9e028cd1/Orange3-3.15.0.tar.gz (3.9MB)\n",
            "\u001b[K    100% |████████████████████████████████| 3.9MB 970kB/s \n",
            "\u001b[?25hCollecting AnyQt>=0.0.8 (from Orange3->Orange3-Educational)\n",
            "  Downloading https://files.pythonhosted.org/packages/7c/32/f6ae3ad3be05722d344ff8d202d4f0382f7fc75e1ad2fd49cc36ccd2e8a7/AnyQt-0.0.8-py2.py3-none-any.whl\n",
            "Collecting CommonMark>=0.5.5 (from Orange3->Orange3-Educational)\n",
            "\u001b[?25l  Downloading https://files.pythonhosted.org/packages/ab/ca/439c88039583a29564a0043186875258e9a4f041fb5c422cd387b8e10175/commonmark-0.8.1-py2.py3-none-any.whl (47kB)\n",
            "\u001b[K    100% |████████████████████████████████| 51kB 20.0MB/s \n",
            "\u001b[?25hCollecting bottleneck>=1.0.0 (from Orange3->Orange3-Educational)\n",
            "\u001b[?25l  Downloading https://files.pythonhosted.org/packages/05/ae/cedf5323f398ab4e4ff92d6c431a3e1c6a186f9b41ab3e8258dff786a290/Bottleneck-1.2.1.tar.gz (105kB)\n",
            "\u001b[K    100% |████████████████████████████████| 112kB 28.0MB/s \n",
            "\u001b[?25hRequirement already satisfied: chardet>=3.0.2 in /usr/local/lib/python3.6/dist-packages (from Orange3->Orange3-Educational) (3.0.4)\n",
            "Collecting docutils (from Orange3->Orange3-Educational)\n",
            "\u001b[?25l  Downloading https://files.pythonhosted.org/packages/36/fa/08e9e6e0e3cbd1d362c3bbee8d01d0aedb2155c4ac112b19ef3cae8eed8d/docutils-0.14-py3-none-any.whl (543kB)\n",
            "\u001b[K    100% |████████████████████████████████| 552kB 21.3MB/s \n",
            "\u001b[?25hRequirement already satisfied: joblib>=0.9.4 in /usr/local/lib/python3.6/dist-packages (from Orange3->Orange3-Educational) (0.12.4)\n",
            "Collecting keyring (from Orange3->Orange3-Educational)\n",
            "  Downloading https://files.pythonhosted.org/packages/ff/a6/9a679b52304900703aea0f0fed81d95fed509097c694451ff7069d296e77/keyring-15.0.0-py2.py3-none-any.whl\n",
            "Collecting keyrings.alt (from Orange3->Orange3-Educational)\n",
            "  Downloading https://files.pythonhosted.org/packages/f7/db/202fe99c9f6d75c7810cb3af7d791479df0dd942f2bac2425646c0ad3db8/keyrings.alt-3.1-py2.py3-none-any.whl\n",
            "Requirement already satisfied: networkx in /usr/local/lib/python3.6/dist-packages (from Orange3->Orange3-Educational) (2.1)\n",
            "Requirement already satisfied: numpy>=1.9.0 in /usr/local/lib/python3.6/dist-packages (from Orange3->Orange3-Educational) (1.14.5)\n",
            "Requirement already satisfied: pip>=9.0 in /usr/local/lib/python3.6/dist-packages (from Orange3->Orange3-Educational) (18.0)\n",
            "Collecting pyqtgraph>=0.10.0 (from Orange3->Orange3-Educational)\n",
            "\u001b[?25l  Downloading https://files.pythonhosted.org/packages/cd/ad/307e0280df5c19986c4206d138ec3a8954afc722cea991f4adb4a16337d9/pyqtgraph-0.10.0.tar.gz (1.5MB)\n",
            "\u001b[K    100% |████████████████████████████████| 1.6MB 17.2MB/s \n",
            "\u001b[?25hCollecting python-louvain (from Orange3->Orange3-Educational)\n",
            "  Downloading https://files.pythonhosted.org/packages/c2/15/0d0e3ace40e9462ce14e0a848b3bd60c2f58296b3505b0aad75486b04cdf/python-louvain-0.11.tar.gz\n",
            "Requirement already satisfied: scikit-learn>=0.18.1 in /usr/local/lib/python3.6/dist-packages (from Orange3->Orange3-Educational) (0.19.2)\n",
            "Requirement already satisfied: scipy>=0.16.1 in /usr/local/lib/python3.6/dist-packages (from Orange3->Orange3-Educational) (0.19.1)\n",
            "Collecting serverfiles (from Orange3->Orange3-Educational)\n",
            "  Downloading https://files.pythonhosted.org/packages/85/97/f1e939373e40ae034f5535d8e567ec2dc3029d8045b6373a8783b3394cb7/serverfiles-0.2.1.tar.gz\n",
            "Requirement already satisfied: setuptools>=36.3 in /usr/local/lib/python3.6/dist-packages (from Orange3->Orange3-Educational) (39.1.0)\n",
            "Collecting xlrd>=0.9.2 (from Orange3->Orange3-Educational)\n",
            "\u001b[?25l  Downloading https://files.pythonhosted.org/packages/07/e6/e95c4eec6221bfd8528bcc4ea252a850bffcc4be88ebc367e23a1a84b0bb/xlrd-1.1.0-py2.py3-none-any.whl (108kB)\n",
            "\u001b[K    100% |████████████████████████████████| 112kB 26.8MB/s \n",
            "\u001b[?25hRequirement already satisfied: future in /usr/local/lib/python3.6/dist-packages (from CommonMark>=0.5.5->Orange3->Orange3-Educational) (0.16.0)\n",
            "Collecting secretstorage; sys_platform == \"linux\" and python_version >= \"3.5\" (from keyring->Orange3->Orange3-Educational)\n",
            "  Downloading https://files.pythonhosted.org/packages/d8/e8/80975fd281764c80b2eb581a7f25d2109786e273b8925e8161bd2d06d10a/SecretStorage-3.1.0-py3-none-any.whl\n",
            "Requirement already satisfied: entrypoints in /usr/local/lib/python3.6/dist-packages (from keyring->Orange3->Orange3-Educational) (0.2.3)\n",
            "Requirement already satisfied: six in /usr/local/lib/python3.6/dist-packages (from keyrings.alt->Orange3->Orange3-Educational) (1.11.0)\n",
            "Requirement already satisfied: decorator>=4.1.0 in /usr/local/lib/python3.6/dist-packages (from networkx->Orange3->Orange3-Educational) (4.3.0)\n",
            "Requirement already satisfied: requests>=2.11.1 in /usr/local/lib/python3.6/dist-packages (from serverfiles->Orange3->Orange3-Educational) (2.18.4)\n",
            "Collecting jeepney (from secretstorage; sys_platform == \"linux\" and python_version >= \"3.5\"->keyring->Orange3->Orange3-Educational)\n",
            "\u001b[?25l  Downloading https://files.pythonhosted.org/packages/a9/21/c07060fac57d8d4932ccb19f96b244ff056f13192993d2d1253fb87d6784/jeepney-0.3.1-py3-none-any.whl (55kB)\n",
            "\u001b[K    100% |████████████████████████████████| 61kB 21.1MB/s \n",
            "\u001b[?25hCollecting cryptography (from secretstorage; sys_platform == \"linux\" and python_version >= \"3.5\"->keyring->Orange3->Orange3-Educational)\n",
            "\u001b[?25l  Downloading https://files.pythonhosted.org/packages/59/32/92cade62c645756a83598edf56289e9b19aae5370642a7ce690cd06bc72f/cryptography-2.3.1-cp34-abi3-manylinux1_x86_64.whl (2.1MB)\n",
            "\u001b[K    100% |████████████████████████████████| 2.1MB 11.4MB/s \n",
            "\u001b[?25hRequirement already satisfied: idna<2.7,>=2.5 in /usr/local/lib/python3.6/dist-packages (from requests>=2.11.1->serverfiles->Orange3->Orange3-Educational) (2.6)\n",
            "Requirement already satisfied: certifi>=2017.4.17 in /usr/local/lib/python3.6/dist-packages (from requests>=2.11.1->serverfiles->Orange3->Orange3-Educational) (2018.8.24)\n",
            "Requirement already satisfied: urllib3<1.23,>=1.21.1 in /usr/local/lib/python3.6/dist-packages (from requests>=2.11.1->serverfiles->Orange3->Orange3-Educational) (1.22)\n",
            "Collecting asn1crypto>=0.21.0 (from cryptography->secretstorage; sys_platform == \"linux\" and python_version >= \"3.5\"->keyring->Orange3->Orange3-Educational)\n",
            "\u001b[?25l  Downloading https://files.pythonhosted.org/packages/ea/cd/35485615f45f30a510576f1a56d1e0a7ad7bd8ab5ed7cdc600ef7cd06222/asn1crypto-0.24.0-py2.py3-none-any.whl (101kB)\n",
            "\u001b[K    100% |████████████████████████████████| 102kB 25.9MB/s \n",
            "\u001b[?25hCollecting cffi!=1.11.3,>=1.7 (from cryptography->secretstorage; sys_platform == \"linux\" and python_version >= \"3.5\"->keyring->Orange3->Orange3-Educational)\n",
            "\u001b[?25l  Downloading https://files.pythonhosted.org/packages/6d/c0/47db8f624f3e4e2f3f27be03a93379d1ba16a1450a7b1aacfa0366e2c0dd/cffi-1.11.5-cp36-cp36m-manylinux1_x86_64.whl (421kB)\n",
            "\u001b[K    100% |████████████████████████████████| 430kB 26.0MB/s \n",
            "\u001b[?25hCollecting pycparser (from cffi!=1.11.3,>=1.7->cryptography->secretstorage; sys_platform == \"linux\" and python_version >= \"3.5\"->keyring->Orange3->Orange3-Educational)\n",
            "\u001b[?25l  Downloading https://files.pythonhosted.org/packages/8c/2d/aad7f16146f4197a11f8e91fb81df177adcc2073d36a17b1491fd09df6ed/pycparser-2.18.tar.gz (245kB)\n",
            "\u001b[K    100% |████████████████████████████████| 256kB 26.6MB/s \n",
            "\u001b[?25hBuilding wheels for collected packages: Orange3, bottleneck, pyqtgraph, python-louvain, serverfiles, pycparser\n",
            "  Running setup.py bdist_wheel for Orange3 ... \u001b[?25l-\b \b\\\b \b|\b \b/\b \b-\b \b\\\b \b|\b \b/\b \b-\b \b\\\b \b|\b \b/\b \b-\b \b\\\b \b|\b \b/\b \b-\b \b\\\b \b|\b \b/\b \b-\b \b\\\b \b|\b \b/\b \b-\b \b\\\b \b|\b \bdone\n",
            "\u001b[?25h  Stored in directory: /root/.cache/pip/wheels/3b/60/63/d3f61bbdaa184a8a344b2e3589a3769e8fde662b39fbfccc15\n",
            "  Running setup.py bdist_wheel for bottleneck ... \u001b[?25l-\b \b\\\b \b|\b \b/\b \b-\b \b\\\b \b|\b \b/\b \bdone\n",
            "\u001b[?25h  Stored in directory: /root/.cache/pip/wheels/f2/bf/ec/e0f39aa27001525ad455139ee57ec7d0776fe074dfd78c97e4\n",
            "  Running setup.py bdist_wheel for pyqtgraph ... \u001b[?25l-\b \b\\\b \b|\b \b/\b \b-\b \bdone\n",
            "\u001b[?25h  Stored in directory: /root/.cache/pip/wheels/93/a2/de/184ecdefdb91d760706d02389015dfa3b96e927eb1c42ace37\n",
            "  Running setup.py bdist_wheel for python-louvain ... \u001b[?25l-\b \bdone\n",
            "\u001b[?25h  Stored in directory: /root/.cache/pip/wheels/c3/b0/db/198c7453d5169907dbdbb090eebc0c6839f75e36b09c6dc7aa\n",
            "  Running setup.py bdist_wheel for serverfiles ... \u001b[?25l-\b \bdone\n",
            "\u001b[?25h  Stored in directory: /root/.cache/pip/wheels/57/61/89/2f39b97497f2412d900e50b4de558dad04e75fb880eb4cfbd5\n",
            "  Running setup.py bdist_wheel for pycparser ... \u001b[?25l-\b \b\\\b \bdone\n",
            "\u001b[?25h  Stored in directory: /root/.cache/pip/wheels/c0/a1/27/5ba234bd77ea5a290cbf6d675259ec52293193467a12ef1f46\n",
            "Successfully built Orange3 bottleneck pyqtgraph python-louvain serverfiles pycparser\n",
            "Installing collected packages: AnyQt, CommonMark, bottleneck, docutils, jeepney, asn1crypto, pycparser, cffi, cryptography, secretstorage, keyring, keyrings.alt, pyqtgraph, python-louvain, serverfiles, xlrd, Orange3, Orange3-Educational\n",
            "Successfully installed AnyQt-0.0.8 CommonMark-0.8.1 Orange3-3.15.0 Orange3-Educational-0.1.8 asn1crypto-0.24.0 bottleneck-1.2.1 cffi-1.11.5 cryptography-2.3.1 docutils-0.14 jeepney-0.3.1 keyring-15.0.0 keyrings.alt-3.1 pycparser-2.18 pyqtgraph-0.10.0 python-louvain-0.11 secretstorage-3.1.0 serverfiles-0.2.1 xlrd-1.1.0\n"
          ],
          "name": "stdout"
        }
      ]
    },
    {
      "metadata": {
        "id": "uJ0DCDL3ozWk",
        "colab_type": "text"
      },
      "cell_type": "markdown",
      "source": [
        "Carrega os dados\n"
      ]
    },
    {
      "metadata": {
        "id": "cgxrR1N50iuT",
        "colab_type": "code",
        "colab": {
          "base_uri": "https://localhost:8080/",
          "height": 102
        },
        "outputId": "6781dc9f-2a17-4f60-fc31-d5469c9d906a"
      },
      "cell_type": "code",
      "source": [
        "heart = Table(\"heart_disease\")\n",
        "print(heart[:5])"
      ],
      "execution_count": 2,
      "outputs": [
        {
          "output_type": "stream",
          "text": [
            "[[63, male, typical ang, 145, 233, 1, left vent hypertrophy, 150, 0, 2.3, downsloping, 0, fixed defect | 0],\n",
            " [67, male, asymptomatic, 160, 286, 0, left vent hypertrophy, 108, 1, 1.5, flat, 3, normal | 1],\n",
            " [67, male, asymptomatic, 120, 229, 0, left vent hypertrophy, 129, 1, 2.6, flat, 2, reversable defect | 1],\n",
            " [37, male, non-anginal, 130, 250, 0, normal, 187, 0, 3.5, downsloping, 0, normal | 0],\n",
            " [41, female, atypical ang, 130, 204, 0, left vent hypertrophy, 172, 0, 1.4, upsloping, 0, normal | 0]]\n"
          ],
          "name": "stdout"
        }
      ]
    },
    {
      "metadata": {
        "id": "fE1WJSDG0iud",
        "colab_type": "code",
        "colab": {}
      },
      "cell_type": "code",
      "source": [
        "scores = CrossValidation(heart, [NaiveBayesLearner(), TreeLearner()])\n",
        "#take probabilites of class 1 (sick) of NaiveBayesLearner\n",
        "p1 = scores.probabilities[0][:, 1]\n",
        "#take actual class values\n",
        "y = scores.actual\n",
        "#cost of false positive (patient classified as sick when healthy)\n",
        "fp_cost = 500\n",
        "#cost of false negative (patient classified as healthy when sick)\n",
        "fn_cost = 800\n",
        "\n",
        "fp = 0\n",
        "#start with threshold above 1 (no one is sick)\n",
        "fn = np.sum(y)"
      ],
      "execution_count": 0,
      "outputs": []
    },
    {
      "metadata": {
        "id": "SkhvNPse0iuf",
        "colab_type": "code",
        "colab": {}
      },
      "cell_type": "code",
      "source": [
        "ps = []\n",
        "costs = []\n",
        "#compute costs of classifying i patients as sick\n",
        "for i in np.argsort(p1)[::-1]:\n",
        "   if y[i] == 0:\n",
        "       fp += 1\n",
        "   else:\n",
        "       fn -= 1\n",
        "   ps.append(p1[i])\n",
        "   costs.append(fp * fp_cost + fn * fn_cost)"
      ],
      "execution_count": 0,
      "outputs": []
    },
    {
      "metadata": {
        "id": "MkO4QpRB0iuj",
        "colab_type": "code",
        "colab": {
          "base_uri": "https://localhost:8080/",
          "height": 34
        },
        "outputId": "a1c5e1b1-5dc0-4034-f864-7ab462d445dc"
      },
      "cell_type": "code",
      "source": [
        "costs = np.array(costs)\n",
        "#find probability of a patient being sick at lowest cost\n",
        "print(ps[costs.argmin()])"
      ],
      "execution_count": 5,
      "outputs": [
        {
          "output_type": "stream",
          "text": [
            "0.46223274\n"
          ],
          "name": "stdout"
        }
      ]
    },
    {
      "metadata": {
        "id": "8SIMks_T0iuo",
        "colab_type": "code",
        "colab": {
          "base_uri": "https://localhost:8080/",
          "height": 296
        },
        "outputId": "036acf11-842f-4a06-ea86-e054224f19f4"
      },
      "cell_type": "code",
      "source": [
        "fig, ax = plt.subplots()\n",
        "plt.plot(ps, costs)\n",
        "ax.set_xlabel('Patients sent')\n",
        "ax.set_ylabel('Cost')"
      ],
      "execution_count": 6,
      "outputs": [
        {
          "output_type": "execute_result",
          "data": {
            "text/plain": [
              "Text(0,0.5,'Cost')"
            ]
          },
          "metadata": {
            "tags": []
          },
          "execution_count": 6
        },
        {
          "output_type": "display_data",
          "data": {
            "image/png": "[encoded data removed]",
            "text/plain": [
              "<matplotlib.figure.Figure at 0x7f211ee9d9b0>"
            ]
          },
          "metadata": {
            "tags": []
          }
        }
      ]
    },
    {
      "metadata": {
        "id": "TvQXr6aK0iut",
        "colab_type": "code",
        "colab": {}
      },
      "cell_type": "code",
      "source": [
        ""
      ],
      "execution_count": 0,
      "outputs": []
    }
  ]
}