{
  "nbformat": 4,
  "nbformat_minor": 0,
  "metadata": {
    "colab": {
      "name": "Breast Cancer.ipynb",
      "version": "0.3.2",
      "views": {},
      "default_view": {},
      "provenance": [],
      "collapsed_sections": []
    },
    "kernelspec": {
      "name": "python3",
      "display_name": "Python 3"
    }
  },
  "cells": [
    {
      "metadata": {
        "id": "MXtnMxf_guBy",
        "colab_type": "text"
      },
      "cell_type": "markdown",
      "source": [
        "## Carrega Arquivos"
      ]
    },
    {
      "metadata": {
        "id": "FOAATdYId880",
        "colab_type": "code",
        "colab": {
          "autoexec": {
            "startup": false,
            "wait_interval": 0
          }
        }
      },
      "cell_type": "code",
      "source": [
        "import matplotlib.pyplot as plt\n",
        "from sklearn.datasets import load_breast_cancer\n",
        "from sklearn.decomposition import PCA"
      ],
      "execution_count": 0,
      "outputs": []
    },
    {
      "metadata": {
        "id": "t8ycWgLcg3H_",
        "colab_type": "text"
      },
      "cell_type": "markdown",
      "source": [
        "## Carrega Dados do Câncer de Mama"
      ]
    },
    {
      "metadata": {
        "id": "zYMFFkageRdB",
        "colab_type": "code",
        "colab": {
          "autoexec": {
            "startup": false,
            "wait_interval": 0
          }
        }
      },
      "cell_type": "code",
      "source": [
        "cancer = load_breast_cancer()"
      ],
      "execution_count": 0,
      "outputs": []
    },
    {
      "metadata": {
        "id": "B-0DmQjpikWQ",
        "colab_type": "text"
      },
      "cell_type": "markdown",
      "source": [
        "## Descrição dos Dados"
      ]
    },
    {
      "metadata": {
        "id": "6NRNhlgkiptH",
        "colab_type": "code",
        "colab": {
          "autoexec": {
            "startup": false,
            "wait_interval": 0
          },
          "base_uri": "https://localhost:8080/",
          "height": 2141
        },
        "outputId": "deb60aa6-7244-471a-c0e1-4d3ac77d8a21",
        "executionInfo": {
          "status": "ok",
          "timestamp": 1527423626274,
          "user_tz": 180,
          "elapsed": 620,
          "user": {
            "displayName": "Henrique Dias Pereira Dos Santos",
            "photoUrl": "//lh4.googleusercontent.com/-WiF-XnLzHD0/AAAAAAAAAAI/AAAAAAAAADE/Jm2jOhwpagc/s50-c-k-no/photo.jpg",
            "userId": "113969000364095518288"
          }
        }
      },
      "cell_type": "code",
      "source": [
        "print(cancer.DESCR)"
      ],
      "execution_count": 19,
      "outputs": [
        {
          "output_type": "stream",
          "text": [
            "Breast Cancer Wisconsin (Diagnostic) Database\n",
            "=============================================\n",
            "\n",
            "Notes\n",
            "-----\n",
            "Data Set Characteristics:\n",
            "    :Number of Instances: 569\n",
            "\n",
            "    :Number of Attributes: 30 numeric, predictive attributes and the class\n",
            "\n",
            "    :Attribute Information:\n",
            "        - radius (mean of distances from center to points on the perimeter)\n",
            "        - texture (standard deviation of gray-scale values)\n",
            "        - perimeter\n",
            "        - area\n",
            "        - smoothness (local variation in radius lengths)\n",
            "        - compactness (perimeter^2 / area - 1.0)\n",
            "        - concavity (severity of concave portions of the contour)\n",
            "        - concave points (number of concave portions of the contour)\n",
            "        - symmetry \n",
            "        - fractal dimension (\"coastline approximation\" - 1)\n",
            "\n",
            "        The mean, standard error, and \"worst\" or largest (mean of the three\n",
            "        largest values) of these features were computed for each image,\n",
            "        resulting in 30 features.  For instance, field 3 is Mean Radius, field\n",
            "        13 is Radius SE, field 23 is Worst Radius.\n",
            "\n",
            "        - class:\n",
            "                - WDBC-Malignant\n",
            "                - WDBC-Benign\n",
            "\n",
            "    :Summary Statistics:\n",
            "\n",
            "    ===================================== ====== ======\n",
            "                                           Min    Max\n",
            "    ===================================== ====== ======\n",
            "    radius (mean):                        6.981  28.11\n",
            "    texture (mean):                       9.71   39.28\n",
            "    perimeter (mean):                     43.79  188.5\n",
            "    area (mean):                          143.5  2501.0\n",
            "    smoothness (mean):                    0.053  0.163\n",
            "    compactness (mean):                   0.019  0.345\n",
            "    concavity (mean):                     0.0    0.427\n",
            "    concave points (mean):                0.0    0.201\n",
            "    symmetry (mean):                      0.106  0.304\n",
            "    fractal dimension (mean):             0.05   0.097\n",
            "    radius (standard error):              0.112  2.873\n",
            "    texture (standard error):             0.36   4.885\n",
            "    perimeter (standard error):           0.757  21.98\n",
            "    area (standard error):                6.802  542.2\n",
            "    smoothness (standard error):          0.002  0.031\n",
            "    compactness (standard error):         0.002  0.135\n",
            "    concavity (standard error):           0.0    0.396\n",
            "    concave points (standard error):      0.0    0.053\n",
            "    symmetry (standard error):            0.008  0.079\n",
            "    fractal dimension (standard error):   0.001  0.03\n",
            "    radius (worst):                       7.93   36.04\n",
            "    texture (worst):                      12.02  49.54\n",
            "    perimeter (worst):                    50.41  251.2\n",
            "    area (worst):                         185.2  4254.0\n",
            "    smoothness (worst):                   0.071  0.223\n",
            "    compactness (worst):                  0.027  1.058\n",
            "    concavity (worst):                    0.0    1.252\n",
            "    concave points (worst):               0.0    0.291\n",
            "    symmetry (worst):                     0.156  0.664\n",
            "    fractal dimension (worst):            0.055  0.208\n",
            "    ===================================== ====== ======\n",
            "\n",
            "    :Missing Attribute Values: None\n",
            "\n",
            "    :Class Distribution: 212 - Malignant, 357 - Benign\n",
            "\n",
            "    :Creator:  Dr. William H. Wolberg, W. Nick Street, Olvi L. Mangasarian\n",
            "\n",
            "    :Donor: Nick Street\n",
            "\n",
            "    :Date: November, 1995\n",
            "\n",
            "This is a copy of UCI ML Breast Cancer Wisconsin (Diagnostic) datasets.\n",
            "https://goo.gl/U2Uwz2\n",
            "\n",
            "Features are computed from a digitized image of a fine needle\n",
            "aspirate (FNA) of a breast mass.  They describe\n",
            "characteristics of the cell nuclei present in the image.\n",
            "\n",
            "Separating plane described above was obtained using\n",
            "Multisurface Method-Tree (MSM-T) [K. P. Bennett, \"Decision Tree\n",
            "Construction Via Linear Programming.\" Proceedings of the 4th\n",
            "Midwest Artificial Intelligence and Cognitive Science Society,\n",
            "pp. 97-101, 1992], a classification method which uses linear\n",
            "programming to construct a decision tree.  Relevant features\n",
            "were selected using an exhaustive search in the space of 1-4\n",
            "features and 1-3 separating planes.\n",
            "\n",
            "The actual linear program used to obtain the separating plane\n",
            "in the 3-dimensional space is that described in:\n",
            "[K. P. Bennett and O. L. Mangasarian: \"Robust Linear\n",
            "Programming Discrimination of Two Linearly Inseparable Sets\",\n",
            "Optimization Methods and Software 1, 1992, 23-34].\n",
            "\n",
            "This database is also available through the UW CS ftp server:\n",
            "\n",
            "ftp ftp.cs.wisc.edu\n",
            "cd math-prog/cpo-dataset/machine-learn/WDBC/\n",
            "\n",
            "References\n",
            "----------\n",
            "   - W.N. Street, W.H. Wolberg and O.L. Mangasarian. Nuclear feature extraction \n",
            "     for breast tumor diagnosis. IS&T/SPIE 1993 International Symposium on \n",
            "     Electronic Imaging: Science and Technology, volume 1905, pages 861-870,\n",
            "     San Jose, CA, 1993.\n",
            "   - O.L. Mangasarian, W.N. Street and W.H. Wolberg. Breast cancer diagnosis and \n",
            "     prognosis via linear programming. Operations Research, 43(4), pages 570-577, \n",
            "     July-August 1995.\n",
            "   - W.H. Wolberg, W.N. Street, and O.L. Mangasarian. Machine learning techniques\n",
            "     to diagnose breast cancer from fine-needle aspirates. Cancer Letters 77 (1994) \n",
            "     163-171.\n",
            "\n"
          ],
          "name": "stdout"
        }
      ]
    },
    {
      "metadata": {
        "id": "fuagXoBqnBYn",
        "colab_type": "text"
      },
      "cell_type": "markdown",
      "source": [
        "## Exemplos de Células\n",
        "![](https://www.researchgate.net/profile/Konstantinos_Plataniotis/publication/282307481/figure/fig1/AS:308065229393920@1450459882274/Histopathology-image-samples-in-the-UCSB-breast-cancer-cell-dataset-The-image-in-the.png)"
      ]
    },
    {
      "metadata": {
        "id": "v84PzHGwkf54",
        "colab_type": "text"
      },
      "cell_type": "markdown",
      "source": [
        "## Dados do Primeiro Registro"
      ]
    },
    {
      "metadata": {
        "id": "_UJXdiWrkJh3",
        "colab_type": "code",
        "colab": {
          "autoexec": {
            "startup": false,
            "wait_interval": 0
          },
          "base_uri": "https://localhost:8080/",
          "height": 107
        },
        "outputId": "2781cfcb-592f-4864-816d-482db6b5f5bd",
        "executionInfo": {
          "status": "ok",
          "timestamp": 1527424062331,
          "user_tz": 180,
          "elapsed": 651,
          "user": {
            "displayName": "Henrique Dias Pereira Dos Santos",
            "photoUrl": "//lh4.googleusercontent.com/-WiF-XnLzHD0/AAAAAAAAAAI/AAAAAAAAADE/Jm2jOhwpagc/s50-c-k-no/photo.jpg",
            "userId": "113969000364095518288"
          }
        }
      },
      "cell_type": "code",
      "source": [
        "cancer.data[0]"
      ],
      "execution_count": 22,
      "outputs": [
        {
          "output_type": "execute_result",
          "data": {
            "text/plain": [
              "array([1.799e+01, 1.038e+01, 1.228e+02, 1.001e+03, 1.184e-01, 2.776e-01,\n",
              "       3.001e-01, 1.471e-01, 2.419e-01, 7.871e-02, 1.095e+00, 9.053e-01,\n",
              "       8.589e+00, 1.534e+02, 6.399e-03, 4.904e-02, 5.373e-02, 1.587e-02,\n",
              "       3.003e-02, 6.193e-03, 2.538e+01, 1.733e+01, 1.846e+02, 2.019e+03,\n",
              "       1.622e-01, 6.656e-01, 7.119e-01, 2.654e-01, 4.601e-01, 1.189e-01])"
            ]
          },
          "metadata": {
            "tags": []
          },
          "execution_count": 22
        }
      ]
    },
    {
      "metadata": {
        "id": "4f4bHWPfh8B5",
        "colab_type": "text"
      },
      "cell_type": "markdown",
      "source": [
        "## Gráfico de Dispersão\n",
        "- Aprendizagem Não-Supervisionada\n",
        "- Redução de Dimensionalidade com PCA (Principal Component Analysis)\n",
        "\n"
      ]
    },
    {
      "metadata": {
        "id": "tAJOIfHVfiJy",
        "colab_type": "code",
        "colab": {
          "autoexec": {
            "startup": false,
            "wait_interval": 0
          },
          "base_uri": "https://localhost:8080/",
          "height": 715
        },
        "outputId": "1d6bdd73-f5ab-4647-8ccd-f2c044410dc0",
        "executionInfo": {
          "status": "ok",
          "timestamp": 1527425355385,
          "user_tz": 180,
          "elapsed": 837,
          "user": {
            "displayName": "Henrique Dias Pereira Dos Santos",
            "photoUrl": "//lh4.googleusercontent.com/-WiF-XnLzHD0/AAAAAAAAAAI/AAAAAAAAADE/Jm2jOhwpagc/s50-c-k-no/photo.jpg",
            "userId": "113969000364095518288"
          }
        }
      },
      "cell_type": "code",
      "source": [
        "X = cancer.data\n",
        "y = cancer.target\n",
        "\n",
        "n_components = 2\n",
        "pca = PCA(n_components=n_components)\n",
        "X_pca = pca.fit_transform(X)\n",
        "\n",
        "colors = ['navy', 'darkorange']\n",
        "\n",
        "plt.figure(figsize=(12, 12))\n",
        "\n",
        "plt.scatter(X_pca[y == 0, 0], X_pca[y == 0, 1], color='navy', lw=2, label='malignant')\n",
        "plt.scatter(X_pca[y == 1, 0], X_pca[y == 1, 1], color='darkorange', lw=2, label='benign')\n",
        "\n",
        "\n",
        "plt.title(\"PCA of iris dataset\")\n",
        "plt.legend(loc=\"best\", shadow=False, scatterpoints=1)\n",
        "\n",
        "plt.show()"
      ],
      "execution_count": 29,
      "outputs": [
        {
          "output_type": "display_data",
          "data": {
            "image/png": "[encoded data removed]",
            "text/plain": [
              "<matplotlib.figure.Figure at 0x7f8204f3ad68>"
            ]
          },
          "metadata": {
            "tags": []
          }
        }
      ]
    },
    {
      "metadata": {
        "id": "AeuE7DDzmH7j",
        "colab_type": "text"
      },
      "cell_type": "markdown",
      "source": [
        "## Aprendizado de Máquina"
      ]
    },
    {
      "metadata": {
        "id": "fnUxiO23f4To",
        "colab_type": "code",
        "colab": {
          "autoexec": {
            "startup": false,
            "wait_interval": 0
          },
          "base_uri": "https://localhost:8080/",
          "height": 35
        },
        "outputId": "62b457ce-40dd-42d5-d5f9-6d74a5da2653",
        "executionInfo": {
          "status": "ok",
          "timestamp": 1527425477543,
          "user_tz": 180,
          "elapsed": 667,
          "user": {
            "displayName": "Henrique Dias Pereira Dos Santos",
            "photoUrl": "//lh4.googleusercontent.com/-WiF-XnLzHD0/AAAAAAAAAAI/AAAAAAAAADE/Jm2jOhwpagc/s50-c-k-no/photo.jpg",
            "userId": "113969000364095518288"
          }
        }
      },
      "cell_type": "code",
      "source": [
        "from sklearn.ensemble import RandomForestClassifier\n",
        "from sklearn.model_selection import cross_val_score\n",
        "\n",
        "cross_val_score(RandomForestClassifier(), cancer.data, cancer.target)"
      ],
      "execution_count": 32,
      "outputs": [
        {
          "output_type": "execute_result",
          "data": {
            "text/plain": [
              "array([0.94210526, 0.98421053, 0.92592593])"
            ]
          },
          "metadata": {
            "tags": []
          },
          "execution_count": 32
        }
      ]
    },
    {
      "metadata": {
        "id": "UZEZgN9Cl9hf",
        "colab_type": "text"
      },
      "cell_type": "markdown",
      "source": [
        "## Atributos Importantes\n",
        "![Atributos Importante](https://raw.githubusercontent.com/raviolli77/machineLearning_breastCancer_Python/master/notebooks/random_forest_files/random_forest_49_0.png)"
      ]
    },
    {
      "metadata": {
        "id": "Ih-t_poloAEO",
        "colab_type": "text"
      },
      "cell_type": "markdown",
      "source": [
        "### Referência dos Dados\n",
        "https://archive.ics.uci.edu/ml/datasets/Breast+Cancer+Wisconsin+(Diagnostic)\n",
        "### Mais Experimentos\n",
        "https://www.inertia7.com/projects/95"
      ]
    }
  ]
}